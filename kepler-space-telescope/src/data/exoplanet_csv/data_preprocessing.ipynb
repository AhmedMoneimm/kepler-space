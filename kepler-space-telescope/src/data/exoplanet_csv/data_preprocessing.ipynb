{
 "cells": [
  {
   "cell_type": "markdown",
   "metadata": {},
   "source": [
    "# Preprocess data"
   ]
  },
  {
   "cell_type": "code",
   "execution_count": 1,
   "metadata": {},
   "outputs": [],
   "source": [
    "import pandas as pd"
   ]
  },
  {
   "cell_type": "code",
   "execution_count": 8,
   "metadata": {},
   "outputs": [],
   "source": [
    "data = pd.read_csv(\"exoplanets_features.csv\")"
   ]
  },
  {
   "cell_type": "code",
   "execution_count": 9,
   "metadata": {},
   "outputs": [],
   "source": [
    "df = pd.DataFrame(data)"
   ]
  },
  {
   "cell_type": "code",
   "execution_count": 10,
   "metadata": {},
   "outputs": [
    {
     "data": {
      "text/plain": [
       "(5759, 168)"
      ]
     },
     "execution_count": 10,
     "metadata": {},
     "output_type": "execute_result"
    }
   ],
   "source": [
    "df.shape"
   ]
  },
  {
   "cell_type": "code",
   "execution_count": 11,
   "metadata": {
    "vscode": {
     "languageId": "ruby"
    }
   },
   "outputs": [
    {
     "data": {
      "text/plain": [
       "(5759, 36)"
      ]
     },
     "execution_count": 11,
     "metadata": {},
     "output_type": "execute_result"
    }
   ],
   "source": [
    "columns_to_keep = ['rowid', 'pl_name', 'hostname', 'pl_letter', 'sy_snum', 'sy_pnum', 'discoverymethod', 'disc_year', 'disc_locale', 'disc_facility', 'disc_telescope', 'disc_instrument', 'ra', 'dec', 'glat', 'glon', 'elat', 'elon', 'pl_orbper', 'pl_rade', 'pl_radj', 'pl_bmasse', 'pl_bmassj', 'pl_bmassprov', 'pl_dens', 'st_spectype', 'st_teff', 'st_rad', 'st_mass', 'st_lum', 'st_age', 'st_logg', 'st_dens', 'st_rotp', 'st_vsin', 'sy_dist']\n",
    "df_cleaned = df[columns_to_keep]\n",
    "df_cleaned.shape"
   ]
  },
  {
   "cell_type": "code",
   "execution_count": 2,
   "metadata": {},
   "outputs": [],
   "source": [
    "data = pd.read_csv(\"cleaned_5250_types.csv\")"
   ]
  },
  {
   "cell_type": "code",
   "execution_count": 3,
   "metadata": {},
   "outputs": [],
   "source": [
    "df = pd.DataFrame(data)"
   ]
  },
  {
   "cell_type": "code",
   "execution_count": 4,
   "metadata": {},
   "outputs": [
    {
     "data": {
      "text/plain": [
       "Index(['name', 'distance', 'stellar_magnitude', 'planet_type',\n",
       "       'discovery_year', 'mass_multiplier', 'mass_wrt', 'radius_multiplier',\n",
       "       'radius_wrt', 'orbital_radius', 'orbital_period', 'eccentricity',\n",
       "       'detection_method'],\n",
       "      dtype='object')"
      ]
     },
     "execution_count": 4,
     "metadata": {},
     "output_type": "execute_result"
    }
   ],
   "source": [
    "df.columns.unique()"
   ]
  },
  {
   "cell_type": "code",
   "execution_count": 5,
   "metadata": {},
   "outputs": [
    {
     "data": {
      "text/plain": [
       "Index(['name', 'distance', 'stellar_magnitude', 'planet_type',\n",
       "       'discovery_year', 'mass_multiplier', 'mass_wrt', 'radius_multiplier',\n",
       "       'radius_wrt', 'orbital_radius', 'orbital_period', 'eccentricity',\n",
       "       'detection_method'],\n",
       "      dtype='object')"
      ]
     },
     "execution_count": 5,
     "metadata": {},
     "output_type": "execute_result"
    }
   ],
   "source": [
    "df.columns"
   ]
  },
  {
   "cell_type": "code",
   "execution_count": 6,
   "metadata": {},
   "outputs": [
    {
     "name": "stdout",
     "output_type": "stream",
     "text": [
      "['Gas Giant' 'Super Earth' 'Neptune-like' 'Terrestrial' 'Unknown']\n"
     ]
    }
   ],
   "source": [
    "unique_planet_types = df['planet_type'].unique()\n",
    "print(unique_planet_types)"
   ]
  },
  {
   "cell_type": "code",
   "execution_count": 7,
   "metadata": {},
   "outputs": [],
   "source": [
    "data2 = pd.read_csv(\"cleaned_exoplanets_features.csv\")"
   ]
  },
  {
   "cell_type": "code",
   "execution_count": 8,
   "metadata": {},
   "outputs": [],
   "source": [
    "df2 = pd.DataFrame(data2)"
   ]
  },
  {
   "cell_type": "code",
   "execution_count": 9,
   "metadata": {},
   "outputs": [
    {
     "data": {
      "text/plain": [
       "Index(['rowid', 'pl_name', 'hostname', 'pl_letter', 'sy_snum', 'sy_pnum',\n",
       "       'discoverymethod', 'disc_year', 'disc_locale', 'disc_facility',\n",
       "       'disc_telescope', 'disc_instrument', 'ra', 'dec', 'glat', 'glon',\n",
       "       'elat', 'elon', 'pl_orbper', 'pl_rade', 'pl_radj', 'pl_bmasse',\n",
       "       'pl_bmassj', 'pl_bmassprov', 'pl_dens', 'st_spectype', 'st_teff',\n",
       "       'st_rad', 'st_mass', 'st_lum', 'st_age', 'st_logg', 'st_dens',\n",
       "       'st_rotp', 'st_vsin', 'sy_dist'],\n",
       "      dtype='object')"
      ]
     },
     "execution_count": 9,
     "metadata": {},
     "output_type": "execute_result"
    }
   ],
   "source": [
    "df2.columns"
   ]
  },
  {
   "cell_type": "code",
   "execution_count": 10,
   "metadata": {},
   "outputs": [],
   "source": [
    "# Select only the 'pl_name' and 'planet_type' columns from file1\n",
    "file1_filtered = data[['name', 'planet_type']]\n",
    "\n",
    "# Perform the merge using the filtered file1 and file2\n",
    "merged_df = pd.merge(data2, file1_filtered, left_on='pl_name', right_on='name', how='left')  # You can change 'how' if needed\n",
    "\n",
    "# Drop the 'name' column\n",
    "merged_df.drop(columns=['name'], inplace=True)\n",
    "merged_df.rename(columns={'planet_type': 'pl_type'}, inplace=True)\n",
    "\n",
    "# Save the merged dataframe to a new CSV file\n",
    "merged_df.to_csv('merged_file.csv', index=False)\n"
   ]
  },
  {
   "cell_type": "code",
   "execution_count": 12,
   "metadata": {},
   "outputs": [
    {
     "data": {
      "text/plain": [
       "array(['2.16 m Telescope', '2.0 m Alfred Jensch Telescope',\n",
       "       '1.88 m Telescope', '10 m Keck I Telescope', 'Multiple Telescopes',\n",
       "       'Coude Auxiliary Telescope', '8.19 m Gemini North Telescope',\n",
       "       '3.0 m C. Donald Shane Telescope', '8.2 m Subaru Telescope',\n",
       "       '8.2 m ESO VLT UT4 Yepun Telescope', '10 m Keck II Telescope',\n",
       "       '1.5 m CTIO Telescope',\n",
       "       '3.58 m Canada-France-Hawaii Telescope (CFHT)',\n",
       "       '1.45 m x 0.5 m Telescope', '2.4 m Hubble Space Telescope',\n",
       "       '0.95 m Kepler Telescope', '8.19 m Gemini South Telescope',\n",
       "       '1.93 m Telescope', '9.2 m Hobby-Eberly Telescope',\n",
       "       '3.9 m Anglo-Australian Telescope', '1.8 m Telescope',\n",
       "       '0.6 m Coude Auxiliary Telescope',\n",
       "       '8.2 m ESO VLT UT3 Melipal Telescope', '0.1 m TESS Telescope',\n",
       "       '3.58 m Telescopio Nazionale Galileo', '0.4 m Telescope',\n",
       "       '3.6 m ESO Telescope', '1.2 m Leonhard Euler Telescope',\n",
       "       '3.5 m telescope', '3.2 m telescope', '0.27 m CoRoT Telescope',\n",
       "       '8.2 m ESO VLT UT1 Antu Telescope',\n",
       "       '2.4 m Lijiang Station Telescope',\n",
       "       '0.85 m Spitzer Space Telescope', 'MEarth-South telescope array',\n",
       "       '0.4 m MEarth Telescope', 'Very Large Telescope (Antu)',\n",
       "       '2.4 m Automated Planet Finder Telescope',\n",
       "       '279mm RASA-11 wide-field telescope', '5.1 m Hale Telescope',\n",
       "       'Canon 200mm f/1.8L', '0.18 m Takahashi Epsilon Astrograph',\n",
       "       '0.9 m KPNO Coude Feed Telescope',\n",
       "       '6.5 m Magellan II Clay Telescope',\n",
       "       '0.3 m Ritchey-Chretien Telescope', '2.2 m MPG/ESO Telescope',\n",
       "       '2.7 m Harlan J. Smith Telescope',\n",
       "       '1.5 m Tillinghast Reflector Telescope', '1.52 m ESO Telescope',\n",
       "       '2.5m Sloan Digital Sky Survey (SDSS) Telescope',\n",
       "       'Atacama Large Millimeter Array (ALMA)', '1.5 m SMARTS telescope',\n",
       "       '1.4 m CAT Telescope', 'Mamiya 645 80mm f/1.9',\n",
       "       '1.6 m wide-field telescope',\n",
       "       'Rowe-Ackermann Schmidt Astrograph telescope',\n",
       "       'Large Binocular Telescope', 'MeerKAT Telescope',\n",
       "       '1.8 m MOA Telescope', '20 cm NGTS telescope', '0.51 m Telescope',\n",
       "       '1.3 m Warsaw University Telescope',\n",
       "       '305 m Arecibo Radio Telescope', '64 m Parkes Radio Telescope',\n",
       "       'Canon 400mm f/2.8L', '2.15 m Jorge Sahade Telescope',\n",
       "       '6.5 m Magellan I Baade Telescope', '1.4 m IRSF Telescope',\n",
       "       'Automated Planet Finder Telescope',\n",
       "       '0.60 m Transiting Planets and Planetesimals Small Telescope',\n",
       "       '0.10 m Schmidt Telescope',\n",
       "       '3.8m United Kingdom Infrared Telescope (UKIRT)',\n",
       "       '4.20 m William Herschel Telescope', '4 m ESO Vista Telescope',\n",
       "       '6.5 m James Webb Space Telescope',\n",
       "       '3.8 m United Kingdom Infrared Telescope',\n",
       "       '1.8-m Ritchey-Chretien Telescope', 'Perkins 1.8 m Telescope',\n",
       "       '1.0 m McLellan telescope', '2.7m Harlan J. Smith Telescope',\n",
       "       '4.3 m Lowell Discovery Telescope'], dtype=object)"
      ]
     },
     "execution_count": 12,
     "metadata": {},
     "output_type": "execute_result"
    }
   ],
   "source": [
    "merged_df = pd.read_csv('merged_file.csv')\n",
    "merged_df['disc_telescope'].unique()\n"
   ]
  },
  {
   "cell_type": "code",
   "execution_count": 11,
   "metadata": {},
   "outputs": [
    {
     "name": "stdout",
     "output_type": "stream",
     "text": [
      "disc_telescope\n",
      "0.95 m Kepler Telescope                3321\n",
      "0.1 m TESS Telescope                    557\n",
      "Multiple Telescopes                     355\n",
      "Canon 200mm f/1.8L                      222\n",
      "3.6 m ESO Telescope                     222\n",
      "10 m Keck I Telescope                   181\n",
      "1.3 m Warsaw University Telescope       104\n",
      "1.6 m wide-field telescope               94\n",
      "0.18 m Takahashi Epsilon Astrograph      70\n",
      "1.93 m Telescope                         65\n",
      "Name: count, dtype: int64\n"
     ]
    }
   ],
   "source": [
    "top_telescopes = merged_df['disc_telescope'].value_counts().head(10)\n",
    "print(top_telescopes)"
   ]
  },
  {
   "cell_type": "code",
   "execution_count": 4,
   "metadata": {},
   "outputs": [
    {
     "data": {
      "text/plain": [
       "(5759, 37)"
      ]
     },
     "execution_count": 4,
     "metadata": {},
     "output_type": "execute_result"
    }
   ],
   "source": [
    "merged_df.shape"
   ]
  },
  {
   "cell_type": "code",
   "execution_count": 15,
   "metadata": {},
   "outputs": [],
   "source": [
    "import os\n",
    "# # Drop the 'rowid' column\n",
    "# merged_df.drop(columns=['rowid'], inplace=True)\n",
    "\n",
    "# Group the dataframe by 'pl_type', 'discoverymethod', and 'telescope'\n",
    "grouped = merged_df.groupby(['pl_type', 'discoverymethod'])\n",
    "\n",
    "# Save each group to a separate CSV file in the 'Game' folder\n",
    "\n",
    "# Create the 'Game' folder if it doesn't exist\n",
    "os.makedirs('Game', exist_ok=True)\n",
    "\n",
    "for (pl_type, discoverymethod), group in grouped:\n",
    "    filename = f'Game/planets_{pl_type}_{discoverymethod}.csv'.replace(' ', '_').replace('/', '_')\n",
    "    group.to_csv(filename, index=False)"
   ]
  },
  {
   "cell_type": "code",
   "execution_count": null,
   "metadata": {},
   "outputs": [],
   "source": []
  }
 ],
 "metadata": {
  "kernelspec": {
   "display_name": "Python 3",
   "language": "python",
   "name": "python3"
  },
  "language_info": {
   "codemirror_mode": {
    "name": "ipython",
    "version": 3
   },
   "file_extension": ".py",
   "mimetype": "text/x-python",
   "name": "python",
   "nbconvert_exporter": "python",
   "pygments_lexer": "ipython3",
   "version": "3.11.8"
  }
 },
 "nbformat": 4,
 "nbformat_minor": 2
}
