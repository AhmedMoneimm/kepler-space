{
 "cells": [
  {
   "cell_type": "markdown",
   "metadata": {},
   "source": [
    "# Preprocess data"
   ]
  },
  {
   "cell_type": "code",
   "execution_count": 1,
   "metadata": {},
   "outputs": [],
   "source": [
    "import pandas as pd"
   ]
  },
  {
   "cell_type": "code",
   "execution_count": 8,
   "metadata": {},
   "outputs": [],
   "source": [
    "data = pd.read_csv(\"exoplanets_features.csv\")"
   ]
  },
  {
   "cell_type": "code",
   "execution_count": 9,
   "metadata": {},
   "outputs": [],
   "source": [
    "df = pd.DataFrame(data)"
   ]
  },
  {
   "cell_type": "code",
   "execution_count": 10,
   "metadata": {},
   "outputs": [
    {
     "data": {
      "text/plain": [
       "(5759, 168)"
      ]
     },
     "execution_count": 10,
     "metadata": {},
     "output_type": "execute_result"
    }
   ],
   "source": [
    "df.shape"
   ]
  },
  {
   "cell_type": "code",
   "execution_count": 11,
   "metadata": {
    "vscode": {
     "languageId": "ruby"
    }
   },
   "outputs": [
    {
     "data": {
      "text/plain": [
       "(5759, 36)"
      ]
     },
     "execution_count": 11,
     "metadata": {},
     "output_type": "execute_result"
    }
   ],
   "source": [
    "columns_to_keep = ['rowid', 'pl_name', 'hostname', 'pl_letter', 'sy_snum', 'sy_pnum', 'discoverymethod', 'disc_year', 'disc_locale', 'disc_facility', 'disc_telescope', 'disc_instrument', 'ra', 'dec', 'glat', 'glon', 'elat', 'elon', 'pl_orbper', 'pl_rade', 'pl_radj', 'pl_bmasse', 'pl_bmassj', 'pl_bmassprov', 'pl_dens', 'st_spectype', 'st_teff', 'st_rad', 'st_mass', 'st_lum', 'st_age', 'st_logg', 'st_dens', 'st_rotp', 'st_vsin', 'sy_dist']\n",
    "df_cleaned = df[columns_to_keep]\n",
    "df_cleaned.shape"
   ]
  },
  {
   "cell_type": "code",
   "execution_count": 2,
   "metadata": {},
   "outputs": [],
   "source": [
    "data = pd.read_csv(\"cleaned_5250_types.csv\")"
   ]
  },
  {
   "cell_type": "code",
   "execution_count": 3,
   "metadata": {},
   "outputs": [],
   "source": [
    "df = pd.DataFrame(data)"
   ]
  },
  {
   "cell_type": "code",
   "execution_count": 4,
   "metadata": {},
   "outputs": [
    {
     "data": {
      "text/plain": [
       "Index(['name', 'distance', 'stellar_magnitude', 'planet_type',\n",
       "       'discovery_year', 'mass_multiplier', 'mass_wrt', 'radius_multiplier',\n",
       "       'radius_wrt', 'orbital_radius', 'orbital_period', 'eccentricity',\n",
       "       'detection_method'],\n",
       "      dtype='object')"
      ]
     },
     "execution_count": 4,
     "metadata": {},
     "output_type": "execute_result"
    }
   ],
   "source": [
    "df.columns.unique()"
   ]
  },
  {
   "cell_type": "code",
   "execution_count": 5,
   "metadata": {},
   "outputs": [
    {
     "data": {
      "text/plain": [
       "Index(['name', 'distance', 'stellar_magnitude', 'planet_type',\n",
       "       'discovery_year', 'mass_multiplier', 'mass_wrt', 'radius_multiplier',\n",
       "       'radius_wrt', 'orbital_radius', 'orbital_period', 'eccentricity',\n",
       "       'detection_method'],\n",
       "      dtype='object')"
      ]
     },
     "execution_count": 5,
     "metadata": {},
     "output_type": "execute_result"
    }
   ],
   "source": [
    "df.columns"
   ]
  },
  {
   "cell_type": "code",
   "execution_count": 6,
   "metadata": {},
   "outputs": [
    {
     "name": "stdout",
     "output_type": "stream",
     "text": [
      "['Gas Giant' 'Super Earth' 'Neptune-like' 'Terrestrial' 'Unknown']\n"
     ]
    }
   ],
   "source": [
    "unique_planet_types = df['planet_type'].unique()\n",
    "print(unique_planet_types)"
   ]
  },
  {
   "cell_type": "code",
   "execution_count": 7,
   "metadata": {},
   "outputs": [],
   "source": [
    "data2 = pd.read_csv(\"cleaned_exoplanets_features.csv\")"
   ]
  },
  {
   "cell_type": "code",
   "execution_count": 8,
   "metadata": {},
   "outputs": [],
   "source": [
    "df2 = pd.DataFrame(data2)"
   ]
  },
  {
   "cell_type": "code",
   "execution_count": 9,
   "metadata": {},
   "outputs": [
    {
     "data": {
      "text/plain": [
       "Index(['rowid', 'pl_name', 'hostname', 'pl_letter', 'sy_snum', 'sy_pnum',\n",
       "       'discoverymethod', 'disc_year', 'disc_locale', 'disc_facility',\n",
       "       'disc_telescope', 'disc_instrument', 'ra', 'dec', 'glat', 'glon',\n",
       "       'elat', 'elon', 'pl_orbper', 'pl_rade', 'pl_radj', 'pl_bmasse',\n",
       "       'pl_bmassj', 'pl_bmassprov', 'pl_dens', 'st_spectype', 'st_teff',\n",
       "       'st_rad', 'st_mass', 'st_lum', 'st_age', 'st_logg', 'st_dens',\n",
       "       'st_rotp', 'st_vsin', 'sy_dist'],\n",
       "      dtype='object')"
      ]
     },
     "execution_count": 9,
     "metadata": {},
     "output_type": "execute_result"
    }
   ],
   "source": [
    "df2.columns"
   ]
  },
  {
   "cell_type": "code",
   "execution_count": 10,
   "metadata": {},
   "outputs": [],
   "source": [
    "# Select only the 'pl_name' and 'planet_type' columns from file1\n",
    "file1_filtered = data[['name', 'planet_type']]\n",
    "\n",
    "# Perform the merge using the filtered file1 and file2\n",
    "merged_df = pd.merge(data2, file1_filtered, left_on='pl_name', right_on='name', how='left')  # You can change 'how' if needed\n",
    "\n",
    "# Drop the 'name' column\n",
    "merged_df.drop(columns=['name'], inplace=True)\n",
    "merged_df.rename(columns={'planet_type': 'pl_type'}, inplace=True)\n",
    "\n",
    "# Save the merged dataframe to a new CSV file\n",
    "merged_df.to_csv('merged_file.csv', index=False)\n"
   ]
  },
  {
   "cell_type": "code",
   "execution_count": 12,
   "metadata": {},
   "outputs": [],
   "source": [
    "# Drop the 'rowid' column\n",
    "merged_df.drop(columns=['rowid'], inplace=True)\n",
    "\n",
    "# Group the dataframe by 'pl_type'\n",
    "grouped = merged_df.groupby('pl_type')\n",
    "\n",
    "# Save each group to a separate CSV file\n",
    "for pl_type, group in grouped:\n",
    "    group.to_csv(f'planets_{pl_type}.csv', index=False)"
   ]
  }
 ],
 "metadata": {
  "kernelspec": {
   "display_name": "Python 3",
   "language": "python",
   "name": "python3"
  },
  "language_info": {
   "codemirror_mode": {
    "name": "ipython",
    "version": 3
   },
   "file_extension": ".py",
   "mimetype": "text/x-python",
   "name": "python",
   "nbconvert_exporter": "python",
   "pygments_lexer": "ipython3",
   "version": "3.11.8"
  }
 },
 "nbformat": 4,
 "nbformat_minor": 2
}
